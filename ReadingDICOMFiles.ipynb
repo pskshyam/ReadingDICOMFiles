{
 "cells": [
  {
   "cell_type": "markdown",
   "metadata": {},
   "source": [
    "### Introduction"
   ]
  },
  {
   "cell_type": "markdown",
   "metadata": {},
   "source": [
    "The **objective** of this notebook is to \n",
    "1. Download .dcm files from https://medistim.com/dicom and read them using Python\n",
    "2. Display all dicom tags in these files.\n",
    "3. Write the tags to a text file.\n",
    "\n",
    "To accomplish this, I am going to use a pydicom package from python to read DICOM (.dcm) files."
   ]
  },
  {
   "cell_type": "markdown",
   "metadata": {},
   "source": [
    "**pydicom** is a pure python package for working with *DICOM* files such as medical images, reports, and radiotherapy objects. Pydicom makes it easy to read these complex files into natural pythonic structures for easy manipulation. Modified datasets can be written again to DICOM format files.\n",
    "\n",
    "If pydicom is not installed, it can be installed using command `pip install pydicom`\n",
    "\n",
    "For more information,<br>\n",
    "https://pydicom.github.io/pydicom/stable/getting_started.html"
   ]
  },
  {
   "cell_type": "markdown",
   "metadata": {},
   "source": [
    "### Install and import pydicom package"
   ]
  },
  {
   "cell_type": "code",
   "execution_count": null,
   "metadata": {},
   "outputs": [],
   "source": [
    "#install pydicom package\n",
    "!pip install pydicom"
   ]
  },
  {
   "cell_type": "code",
   "execution_count": 2,
   "metadata": {},
   "outputs": [],
   "source": [
    "#import pydicom library to read dcm files\n",
    "import pydicom"
   ]
  },
  {
   "cell_type": "markdown",
   "metadata": {},
   "source": [
    "### Read DICOM files"
   ]
  },
  {
   "cell_type": "code",
   "execution_count": 37,
   "metadata": {},
   "outputs": [
    {
     "data": {
      "text/plain": [
       "(0008, 0005) Specific Character Set              CS: 'ISO_IR 100'\n",
       "(0008, 0008) Image Type                          CS: ['', 'SECONDARY', 'INTRAOPERATIVE']\n",
       "(0008, 0016) SOP Class UID                       UI: Ultrasound Multi-frame Image Storage\n",
       "(0008, 0018) SOP Instance UID                    UI: 2.16.840.1.114488.0.4.123489834087.1330071426.3\n",
       "(0008, 0020) Study Date                          DA: '20110824'\n",
       "(0008, 0021) Series Date                         DA: '20110824'\n",
       "(0008, 0023) Content Date                        DA: '20110824'\n",
       "(0008, 0030) Study Time                          TM: '094836.214743984'\n",
       "(0008, 0031) Series Time                         TM: '094836.214743984'\n",
       "(0008, 0033) Content Time                        TM: '111522.214743816'\n",
       "(0008, 0050) Accession Number                    SH: ''\n",
       "(0008, 0060) Modality                            CS: 'US'\n",
       "(0008, 0070) Manufacturer                        LO: 'Medistim'\n",
       "(0008, 0080) Institution Name                    LO: 'Hospital Name'\n",
       "(0008, 0081) Institution Address                 ST: 'Hospital Address or Department'\n",
       "(0008, 0090) Referring Physician's Name          PN: ''\n",
       "(0008, 1010) Station Name                        SH: 'VERIQ'\n",
       "(0008, 1030) Study Description                   LO: ''\n",
       "(0008, 1050) Performing Physician's Name         PN: 'CA Prof. Debus'\n",
       "(0008, 1090) Manufacturer's Model Name           LO: 'VeriQ C'\n",
       "(0008, 2144) Recommended Display Frame Rate      IS: \"31\"\n",
       "(0010, 0010) Patient's Name                      PN: 'Femoral trombenarterectomy^Case Report:'\n",
       "(0010, 0020) Patient ID                          LO: 'Case Report 1'\n",
       "(0010, 0030) Patient's Birth Date                DA: ''\n",
       "(0010, 0040) Patient's Sex                       CS: 'M'\n",
       "(0010, 1020) Patient's Size                      DS: \"0\"\n",
       "(0010, 1030) Patient's Weight                    DS: \"0\"\n",
       "(0010, 4000) Patient Comments                    LT: 'See case report on www.medistim.com'\n",
       "(0018, 0040) Cine Rate                           IS: \"31\"\n",
       "(0018, 0072) Effective Duration                  DS: \"1.18271\"\n",
       "(0018, 1000) Device Serial Number                LO: '0'\n",
       "(0018, 1020) Software Version(s)                 LO: '3.3.0 RC0 built 02/23/12  09:50:45'\n",
       "(0018, 1063) Frame Time                          DS: \"31.9652\"\n",
       "(0018, 1244) Preferred Playback Sequencing       US: 0\n",
       "(0018, 6011)  Sequence of Ultrasound Regions   2 item(s) ---- \n",
       "   (0018, 6012) Region Spatial Format               US: 1\n",
       "   (0018, 6014) Region Data Type                    US: 1\n",
       "   (0018, 6016) Region Flags                        UL: 2\n",
       "   (0018, 6018) Region Location Min X0              UL: 80\n",
       "   (0018, 601a) Region Location Min Y0              UL: 28\n",
       "   (0018, 601c) Region Location Max X1              UL: 944\n",
       "   (0018, 601e) Region Location Max Y1              UL: 568\n",
       "   (0018, 6020) Reference Pixel X0                  SL: 512\n",
       "   (0018, 6022) Reference Pixel Y0                  SL: 28\n",
       "   (0018, 6024) Physical Units X Direction          US: 3\n",
       "   (0018, 6026) Physical Units Y Direction          US: 3\n",
       "   (0018, 6028) Reference Pixel Physical Value X    FD: 0.0\n",
       "   (0018, 602a) Reference Pixel Physical Value Y    FD: 0.0\n",
       "   (0018, 602c) Physical Delta X                    FD: 0.002774281461757642\n",
       "   (0018, 602e) Physical Delta Y                    FD: 0.002774281461757642\n",
       "   ---------\n",
       "   (0018, 6012) Region Spatial Format               US: 4\n",
       "   (0018, 6014) Region Data Type                    US: 10\n",
       "   (0018, 6016) Region Flags                        UL: 2\n",
       "   (0018, 6018) Region Location Min X0              UL: 86\n",
       "   (0018, 601a) Region Location Min Y0              UL: 645\n",
       "   (0018, 601c) Region Location Max X1              UL: 976\n",
       "   (0018, 601e) Region Location Max Y1              UL: 762\n",
       "   (0018, 6020) Reference Pixel X0                  SL: 86\n",
       "   (0018, 6022) Reference Pixel Y0                  SL: 742\n",
       "   (0018, 6024) Physical Units X Direction          US: 4\n",
       "   (0018, 6026) Physical Units Y Direction          US: 0\n",
       "   (0018, 6028) Reference Pixel Physical Value X    FD: 0.0\n",
       "   (0018, 602a) Reference Pixel Physical Value Y    FD: 0.0\n",
       "   (0018, 602c) Physical Delta X                    FD: 0.0056179775280898875\n",
       "   (0018, 602e) Physical Delta Y                    FD: -0.05128205128205128\n",
       "   ---------\n",
       "(0020, 000d) Study Instance UID                  UI: 2.16.840.1.114488.0.4.123489834087.1330071425.0\n",
       "(0020, 000e) Series Instance UID                 UI: 2.16.840.1.114488.0.4.123489834087.1330071425.1\n",
       "(0020, 0010) Study ID                            SH: ''\n",
       "(0020, 0011) Series Number                       IS: \"1\"\n",
       "(0020, 0013) Instance Number                     IS: \"1\"\n",
       "(0020, 0020) Patient Orientation                 CS: ''\n",
       "(0020, 0060) Laterality                          CS: ''\n",
       "(0020, 4000) Image Comments                      LT: ''\n",
       "(0028, 0002) Samples per Pixel                   US: 3\n",
       "(0028, 0004) Photometric Interpretation          CS: 'RGB'\n",
       "(0028, 0006) Planar Configuration                US: 0\n",
       "(0028, 0008) Number of Frames                    IS: \"37\"\n",
       "(0028, 0009) Frame Increment Pointer             AT: (0018, 1063)\n",
       "(0028, 0010) Rows                                US: 768\n",
       "(0028, 0011) Columns                             US: 1024\n",
       "(0028, 0100) Bits Allocated                      US: 8\n",
       "(0028, 0101) Bits Stored                         US: 8\n",
       "(0028, 0102) High Bit                            US: 7\n",
       "(0028, 0103) Pixel Representation                US: 0\n",
       "(0028, 2110) Lossy Image Compression             CS: '00'\n",
       "(7fe0, 0010) Pixel Data                          OW: Array of 27472108 bytes"
      ]
     },
     "execution_count": 37,
     "metadata": {},
     "output_type": "execute_result"
    }
   ],
   "source": [
    "#Read bmode.dcm file and display the tags\n",
    "bmode = pydicom.dcmread(\"bmode.dcm\", force=True)\n",
    "bmode"
   ]
  },
  {
   "cell_type": "code",
   "execution_count": 132,
   "metadata": {},
   "outputs": [
    {
     "data": {
      "text/plain": [
       "(0008, 0005) Specific Character Set              CS: 'ISO_IR 100'\n",
       "(0008, 0008) Image Type                          CS: ['', 'SECONDARY', 'INTRAOPERATIVE']\n",
       "(0008, 0016) SOP Class UID                       UI: Ultrasound Multi-frame Image Storage\n",
       "(0008, 0018) SOP Instance UID                    UI: 2.16.840.1.114488.0.4.123489834087.1330071425.2\n",
       "(0008, 0020) Study Date                          DA: '20110824'\n",
       "(0008, 0021) Series Date                         DA: '20110824'\n",
       "(0008, 0023) Content Date                        DA: '20110824'\n",
       "(0008, 0030) Study Time                          TM: '094836.214743984'\n",
       "(0008, 0031) Series Time                         TM: '094836.214743984'\n",
       "(0008, 0033) Content Time                        TM: '100451.214743816'\n",
       "(0008, 0050) Accession Number                    SH: ''\n",
       "(0008, 0060) Modality                            CS: 'US'\n",
       "(0008, 0070) Manufacturer                        LO: 'Medistim'\n",
       "(0008, 0080) Institution Name                    LO: 'Hospital Name'\n",
       "(0008, 0081) Institution Address                 ST: 'Hospital Address or Department'\n",
       "(0008, 0090) Referring Physician's Name          PN: ''\n",
       "(0008, 1010) Station Name                        SH: 'VERIQ'\n",
       "(0008, 1030) Study Description                   LO: ''\n",
       "(0008, 1050) Performing Physician's Name         PN: 'CA Prof. Debus'\n",
       "(0008, 1090) Manufacturer's Model Name           LO: 'VeriQ C'\n",
       "(0008, 2144) Recommended Display Frame Rate      IS: \"1\"\n",
       "(0010, 0010) Patient's Name                      PN: 'Femoral trombenarterectomy^Case Report:'\n",
       "(0010, 0020) Patient ID                          LO: 'Case Report 1'\n",
       "(0010, 0030) Patient's Birth Date                DA: ''\n",
       "(0010, 0040) Patient's Sex                       CS: 'M'\n",
       "(0010, 1020) Patient's Size                      DS: \"0\"\n",
       "(0010, 1030) Patient's Weight                    DS: \"0\"\n",
       "(0010, 4000) Patient Comments                    LT: 'See case report on www.medistim.com'\n",
       "(0018, 0040) Cine Rate                           IS: \"1\"\n",
       "(0018, 0072) Effective Duration                  DS: \"1\"\n",
       "(0018, 1000) Device Serial Number                LO: '0'\n",
       "(0018, 1020) Software Version(s)                 LO: '3.3.0 RC0 built 02/23/12  09:50:45'\n",
       "(0018, 1063) Frame Time                          DS: \"1000\"\n",
       "(0018, 1244) Preferred Playback Sequencing       US: 0\n",
       "(0018, 6011)  Sequence of Ultrasound Regions   1 item(s) ---- \n",
       "   (0018, 6012) Region Spatial Format               US: 4\n",
       "   (0018, 6014) Region Data Type                    US: 18\n",
       "   (0018, 6016) Region Flags                        UL: 2\n",
       "   (0018, 6018) Region Location Min X0              UL: 86\n",
       "   (0018, 601a) Region Location Min Y0              UL: 5\n",
       "   (0018, 601c) Region Location Max X1              UL: 976\n",
       "   (0018, 601e) Region Location Max Y1              UL: 506\n",
       "   (0018, 6020) Reference Pixel X0                  SL: 86\n",
       "   (0018, 6022) Reference Pixel Y0                  SL: 422\n",
       "   (0018, 6024) Physical Units X Direction          US: 4\n",
       "   (0018, 6026) Physical Units Y Direction          US: 0\n",
       "   (0018, 6028) Reference Pixel Physical Value X    FD: 0.0\n",
       "   (0018, 602a) Reference Pixel Physical Value Y    FD: 0.0\n",
       "   (0018, 602c) Physical Delta X                    FD: 0.0056179775280898875\n",
       "   (0018, 602e) Physical Delta Y                    FD: -0.0002994011983483613\n",
       "   ---------\n",
       "(0020, 000d) Study Instance UID                  UI: 2.16.840.1.114488.0.4.123489834087.1330071425.0\n",
       "(0020, 000e) Series Instance UID                 UI: 2.16.840.1.114488.0.4.123489834087.1330071425.1\n",
       "(0020, 0010) Study ID                            SH: ''\n",
       "(0020, 0011) Series Number                       IS: \"1\"\n",
       "(0020, 0013) Instance Number                     IS: \"1\"\n",
       "(0020, 0020) Patient Orientation                 CS: ''\n",
       "(0020, 0060) Laterality                          CS: ''\n",
       "(0020, 4000) Image Comments                      LT: ''\n",
       "(0028, 0002) Samples per Pixel                   US: 3\n",
       "(0028, 0004) Photometric Interpretation          CS: 'RGB'\n",
       "(0028, 0006) Planar Configuration                US: 0\n",
       "(0028, 0008) Number of Frames                    IS: \" 1\"\n",
       "(0028, 0009) Frame Increment Pointer             AT: (0018, 1063)\n",
       "(0028, 0010) Rows                                US: 768\n",
       "(0028, 0011) Columns                             US: 1024\n",
       "(0028, 0100) Bits Allocated                      US: 8\n",
       "(0028, 0101) Bits Stored                         US: 8\n",
       "(0028, 0102) High Bit                            US: 7\n",
       "(0028, 0103) Pixel Representation                US: 0\n",
       "(0028, 2110) Lossy Image Compression             CS: '00'\n",
       "(7fe0, 0010) Pixel Data                          OW: Array of 347434 bytes"
      ]
     },
     "execution_count": 132,
     "metadata": {},
     "output_type": "execute_result"
    }
   ],
   "source": [
    "#Read ttfm.dcm file and display the tags\n",
    "ttfm = pydicom.dcmread(\"ttfm.dcm\", force=True)\n",
    "ttfm"
   ]
  },
  {
   "cell_type": "code",
   "execution_count": 74,
   "metadata": {},
   "outputs": [
    {
     "data": {
      "text/plain": [
       "pydicom.dataset.FileDataset"
      ]
     },
     "execution_count": 74,
     "metadata": {},
     "output_type": "execute_result"
    }
   ],
   "source": [
    "type(bmode)"
   ]
  },
  {
   "cell_type": "markdown",
   "metadata": {},
   "source": [
    "### Write the tags to text file"
   ]
  },
  {
   "cell_type": "code",
   "execution_count": 129,
   "metadata": {},
   "outputs": [],
   "source": [
    "f = open('bmode.txt', 'w+')\n",
    "for ele in bmode.iterall():\n",
    "    f.write(str(ele))\n",
    "    f.write('\\n')\n",
    "f.close()"
   ]
  },
  {
   "cell_type": "code",
   "execution_count": 133,
   "metadata": {},
   "outputs": [],
   "source": [
    "f = open('ttfm.txt', 'w+')\n",
    "for ele in ttfm.iterall():\n",
    "    f.write(str(ele))\n",
    "    f.write('\\n')\n",
    "f.close()"
   ]
  }
 ],
 "metadata": {
  "kernelspec": {
   "display_name": "Python 3",
   "language": "python",
   "name": "python3"
  },
  "language_info": {
   "codemirror_mode": {
    "name": "ipython",
    "version": 3
   },
   "file_extension": ".py",
   "mimetype": "text/x-python",
   "name": "python",
   "nbconvert_exporter": "python",
   "pygments_lexer": "ipython3",
   "version": "3.7.0"
  }
 },
 "nbformat": 4,
 "nbformat_minor": 2
}
